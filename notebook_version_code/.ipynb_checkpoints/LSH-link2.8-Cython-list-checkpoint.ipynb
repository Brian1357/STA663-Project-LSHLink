{
 "cells": [
  {
   "cell_type": "code",
   "execution_count": null,
   "metadata": {},
   "outputs": [],
   "source": [
    "! pip install LSHlinkCy"
   ]
  },
  {
   "cell_type": "code",
   "execution_count": null,
   "metadata": {},
   "outputs": [],
   "source": [
    "import LSHlinkCy"
   ]
  },
  {
   "cell_type": "code",
   "execution_count": null,
   "metadata": {},
   "outputs": [],
   "source": [
    "import sys\n",
    "#sys.path是python搜索模块的路径列表：\n",
    "model_path = \"/Users/boyangpan/opt/anaconda3/lib/python3.7/site-packages\"\n",
    "sys.path.insert(0,model_path)"
   ]
  },
  {
   "cell_type": "code",
   "execution_count": null,
   "metadata": {},
   "outputs": [],
   "source": []
  },
  {
   "cell_type": "code",
   "execution_count": 5,
   "metadata": {},
   "outputs": [],
   "source": [
    "import LSHlink_Cy"
   ]
  },
  {
   "cell_type": "code",
   "execution_count": null,
   "metadata": {},
   "outputs": [],
   "source": []
  },
  {
   "cell_type": "code",
   "execution_count": 1,
   "metadata": {},
   "outputs": [],
   "source": [
    "import sys"
   ]
  },
  {
   "cell_type": "code",
   "execution_count": 2,
   "metadata": {},
   "outputs": [
    {
     "data": {
      "text/plain": [
       "['/Users/boyangpan/Repositories/STA663/STA663-Project-LSHLink/notebook_version_code',\n",
       " '/Users/boyangpan/opt/anaconda3/lib/python37.zip',\n",
       " '/Users/boyangpan/opt/anaconda3/lib/python3.7',\n",
       " '/Users/boyangpan/opt/anaconda3/lib/python3.7/lib-dynload',\n",
       " '',\n",
       " '/Users/boyangpan/.local/lib/python3.7/site-packages',\n",
       " '/Users/boyangpan/opt/anaconda3/lib/python3.7/site-packages',\n",
       " '/Users/boyangpan/opt/anaconda3/lib/python3.7/site-packages/aeosa',\n",
       " '/Users/boyangpan/opt/anaconda3/lib/python3.7/site-packages/IPython/extensions',\n",
       " '/Users/boyangpan/.ipython']"
      ]
     },
     "execution_count": 2,
     "metadata": {},
     "output_type": "execute_result"
    }
   ],
   "source": [
    "sys.path"
   ]
  },
  {
   "cell_type": "code",
   "execution_count": null,
   "metadata": {},
   "outputs": [],
   "source": [
    "import "
   ]
  },
  {
   "cell_type": "code",
   "execution_count": 3,
   "metadata": {},
   "outputs": [
    {
     "ename": "ModuleNotFoundError",
     "evalue": "No module named 'LSHlinkCy'",
     "output_type": "error",
     "traceback": [
      "\u001b[0;31m---------------------------------------------------------------------------\u001b[0m",
      "\u001b[0;31mModuleNotFoundError\u001b[0m                       Traceback (most recent call last)",
      "\u001b[0;32m<ipython-input-3-625d7719abb7>\u001b[0m in \u001b[0;36m<module>\u001b[0;34m\u001b[0m\n\u001b[0;32m----> 1\u001b[0;31m \u001b[0;32mimport\u001b[0m \u001b[0mLSHlinkCy\u001b[0m\u001b[0;34m\u001b[0m\u001b[0;34m\u001b[0m\u001b[0m\n\u001b[0m",
      "\u001b[0;31mModuleNotFoundError\u001b[0m: No module named 'LSHlinkCy'"
     ]
    }
   ],
   "source": [
    "import LSHlinkCy"
   ]
  },
  {
   "cell_type": "code",
   "execution_count": null,
   "metadata": {},
   "outputs": [],
   "source": [
    "! pip install LSHlink-ffghcv"
   ]
  },
  {
   "cell_type": "code",
   "execution_count": null,
   "metadata": {},
   "outputs": [],
   "source": [
    "import LSHlink"
   ]
  },
  {
   "cell_type": "code",
   "execution_count": null,
   "metadata": {},
   "outputs": [],
   "source": [
    "import sys\n",
    "sys.path.append(\"/Users/boyangpan/opt/anaconda3/lib/python3.7/site-packages/LSHlink_Cython-0.0.1.dist-info\")\n",
    "\n",
    "import LSHlink_Cython"
   ]
  },
  {
   "cell_type": "code",
   "execution_count": null,
   "metadata": {},
   "outputs": [],
   "source": [
    "%load_ext cython"
   ]
  },
  {
   "cell_type": "code",
   "execution_count": null,
   "metadata": {},
   "outputs": [],
   "source": [
    "%%cython -a\n",
    "import cython\n",
    "import random\n",
    "import numpy as np\n",
    "cimport numpy as np\n",
    "import matplotlib.pyplot as plt\n",
    "\n",
    "cdef class HASH_FUNS():\n",
    "    \n",
    "    cdef public int C,d,k,l,T,N,total_number_of_cluster,iteration_times\n",
    "    cdef public double A,r\n",
    "    cdef public double[:,:] points_distances\n",
    "    cdef public long[:,:] data,RP,BP\n",
    "    cdef public long[:] core_points,not_noise_points,latest_cluster, near_points\n",
    "    cdef public list single_linkage_matrix\n",
    "    \n",
    "    \n",
    "    def __cinit__(self, long[:,:]data):\n",
    "        '''\n",
    "        Initialize raw data, max value(C), dimension(d), \n",
    "            number of points(N), and an array maintaining the cluster index of each point\n",
    "        \n",
    "        self.points_distances reflect the true distance of two points. The init value is inf.\n",
    "        self.RP reflect whether two points is near or note. \"near\" means the true distance is less than r.\n",
    "        self.latest_cluster reflect the cluster label of each point, the init value is the points index.\n",
    "        self.total_number_of_cluster reflect the total number of cluster. NOTE: It is not the current number of clusters.\n",
    "        '''\n",
    "        \n",
    "        try:\n",
    "            self.data = data\n",
    "            \n",
    "            self.C = np.max(self.data)\n",
    "            if np.min(self.data) < 0:\n",
    "                print(\"the minimum is\", np.min(self.data))\n",
    "                raise ValueError\n",
    "            \n",
    "            self.d = len(self.data[0])\n",
    "            self.N = len(self.data)\n",
    "\n",
    "            self.points_distances = np.array([np.array([np.inf] * self.N)] *\n",
    "                                             self.N)\n",
    "            self.RP = np.array([np.array([False] * self.N)] * self.N,dtype = int)            \n",
    "            self.latest_cluster = np.arange(self.N,dtype = int)            \n",
    "            self.total_number_of_cluster = self.N            \n",
    "            self.single_linkage_matrix = []\n",
    "            self.iteration_times = 0\n",
    "            self.near_points = np.zeros(self.N,dtype = int)\n",
    "            \n",
    "        except TypeError:\n",
    "            print(\"Data should be integers.\")\n",
    "        except ValueError:\n",
    "            print(\"Data should be positive.\")\n",
    "    \n",
    "    @cython.wraparound(False)\n",
    "    @cython.boundscheck(False)\n",
    "    def set_parameters(self, int k, int l, double A=2, int T=0):\n",
    "        '''Set up number of sampled digits(k), number of hash functions(l),\n",
    "            increasing rate(A), noise exclusion threshold(T), and range of cluster inclusion r'''\n",
    "        try:\n",
    "            self.k = k\n",
    "            if k <= 0 or not isinstance(k, int):\n",
    "                raise ValueError(\"k should be positive integer.\")\n",
    "            if k > self.C*self.d:\n",
    "                raise ValueError(\"k should be smaller than\", self.C*self.d)\n",
    "            self.l = l\n",
    "            if l <= 0 or not isinstance(l, int):\n",
    "                raise ValueError(\"l should be a positive integer.\")\n",
    "            self.A = A\n",
    "            if A <= 0:\n",
    "                raise ValueError(\"A should be positive.\")\n",
    "            self.T = T\n",
    "            self.r = self.C*self.d/(2*self.k)*self.d**0.5\n",
    "            if T > l:\n",
    "                pass\n",
    "            elif T <= l and T > 0:\n",
    "                raise ValueError(\"T should be larger than l.\")\n",
    "            elif T < 0:\n",
    "                raise ValueError(\"T should be non-negative.\")\n",
    "                \n",
    "            self.create_BP()\n",
    "        except ValueError:\n",
    "            print('Some inputs are not right.')\n",
    "            raise \n",
    "    \n",
    "    @cython.wraparound(False)\n",
    "    @cython.boundscheck(False)\n",
    "    def get_parameters(self):\n",
    "        '''Show the current parameters'''\n",
    "        print('l=',self.l,'\\n')\n",
    "        print('k=',self.k,'\\n')\n",
    "        print('r=',self.r,'\\n')\n",
    "        print('C=',self.C,'\\n')\n",
    "        print('d=',self.d,'\\n')\n",
    "        print('N=',self.N,'\\n')\n",
    "        print('A=',self.A,'\\n')\n",
    "        print('T=',self.T,'\\n')\n",
    "    \n",
    "    @cython.wraparound(False)\n",
    "    @cython.boundscheck(False)\n",
    "    def plot_raw_data(self):\n",
    "        '''Plot the points on a 2d grid. Only 2d data allowed'''\n",
    "        plt.scatter(self.data[:, 0], self.data[:, 1])\n",
    "    \n",
    "    @cython.wraparound(False)\n",
    "    @cython.boundscheck(False)\n",
    "    def fit_data(self):\n",
    "        \"\"\"\n",
    "        Train data until all data merge into one cluster, during each phase, this function will update points distance\n",
    "        and single linkage matrix.\n",
    "        \n",
    "        During each phase, the function will update r and k automatically, and the noise exclusion will \n",
    "        only be intergrated into the first phase.        \n",
    "        \"\"\"\n",
    "        cdef int counter = 0\n",
    "        while counter != self.N:\n",
    "            self.update_distance()\n",
    "            self.update_RP()\n",
    "            self.update_single_linkage_matrix()\n",
    "            self.r = self.r * self.A\n",
    "            self.k = int(self.C * self.d * np.sqrt(self.d) / (2 * self.r))\n",
    "            self.iteration_times += 1\n",
    "            \n",
    "            counter = 0\n",
    "            for i in range(self.N):\n",
    "                if self.latest_cluster[i] == self.latest_cluster[0]:\n",
    "                    counter += 1\n",
    "            \n",
    "        return self.single_linkage_matrix\n",
    "    \n",
    "    @cython.wraparound(False)\n",
    "    @cython.boundscheck(False)\n",
    "    def update_distance(self):\n",
    "        \"\"\"\n",
    "        This function will update distance in every phase.\n",
    "        \n",
    "        self.near_points reflect the number of points near the point in every bucket.\n",
    "        \n",
    "        self.hash_value function return a matrix, which shape is (l * N * k). It contains l hash tables.\n",
    "        for each hash table, we calculate the bucket and for each bucket, we calculate the points distances.\n",
    "        \"\"\"\n",
    "        cdef list candidates\n",
    "        cdef long[:,:] hash_table\n",
    "        self.near_points = np.zeros(self.N,dtype = int)\n",
    "        for i in range(self.l):\n",
    "            hash_table = self.create_hash_table()\n",
    "            candidates = self.identify_candidates(hash_table)\n",
    "            for lis in candidates:\n",
    "                self.judge_cluster_by_distance(lis)\n",
    "        \n",
    "    \n",
    "    @cython.wraparound(False)\n",
    "    @cython.boundscheck(False)\n",
    "    def update_RP(self):\n",
    "        \"\"\"\n",
    "        self.RP identify each two points is near or not.\n",
    "            if two points p q is near, then self.RP[p,q] is True.\n",
    "        \n",
    "        self.not_noise_points is only used in the first phase, which will be used to judge noise point.\n",
    "            if one points p is not noise, then the value is True.     \n",
    "            \n",
    "        self.near_points reflect the near points of the point p in all bucket in all hash functions. \n",
    "        self.core_points reflect whether the near points of the point p is bigger than T.\n",
    "        \"\"\"\n",
    "        \n",
    "        for i in range(self.N):\n",
    "            for j in range(self.N):\n",
    "                self.RP[i,j] += (self.points_distances[i,j] < self.r)  \n",
    "        if self.iteration_times == 0:\n",
    "            self.core_points = np.empty(self.N,dtype = int)\n",
    "            self.not_noise_points = np.array([False]* self.N,dtype = int)\n",
    "            for i in range(self.N):\n",
    "                self.core_points[i] = (self.near_points[i] > self.T)\n",
    "                self.not_noise_points[i] += self.core_points[i]\n",
    "\n",
    "                if self.core_points[i]:\n",
    "                    for j in range(self.N):\n",
    "                        self.not_noise_points[j] += self.RP[i,j]\n",
    "        else:\n",
    "            self.not_noise_points = np.array([True]* self.N,dtype = int)\n",
    "\n",
    "    \n",
    "    @cython.wraparound(False)\n",
    "    @cython.boundscheck(False)\n",
    "    def update_single_linkage_matrix(self):\n",
    "        \"\"\"\n",
    "        The single linkage matrix has four columns. The first two columns are the cluster label, the third columns\n",
    "            is the distance of two cluster, and the fourth columns is the number of points in the new merged cluster.\n",
    "            \n",
    "        In the first phase, we will only count the not noise points.\n",
    "        \"\"\"\n",
    "        cdef int temp1,temp2,temp,ele\n",
    "        cdef list row\n",
    "        for i in range(self.N):\n",
    "            if not self.not_noise_points[i]:\n",
    "                continue\n",
    "            for j in range(i+1,self.N):\n",
    "                ele = self.RP[i][j]\n",
    "                if ele and self.latest_cluster[i] != self.latest_cluster[j]:\n",
    "                    temp1 = self.latest_cluster[i]\n",
    "                    temp2 = self.latest_cluster[j]\n",
    "                    temp = self.update_latest_cluster(i, j)\n",
    "                    row = [temp1, temp2, self.r, temp]\n",
    "                    self.single_linkage_matrix.append(row)\n",
    "                   # print('length: ', len(self.single_linkage_matrix))\n",
    "    \n",
    "    @cython.wraparound(False)\n",
    "    @cython.boundscheck(False)\n",
    "    def update_latest_cluster(self, int i, int j):\n",
    "        \"\"\"\n",
    "        input: near points i, j\n",
    "        ouput: the total number of cluster.\n",
    "        \n",
    "        For near points i,j, this functions first identify the two cluster of two points and relabel all points in this \n",
    "            two clusters into a new label, which means \"merge\" two cluster.\n",
    "        \"\"\"\n",
    "        cdef int k,counter = 0\n",
    "        temp1 = self.latest_cluster[i]\n",
    "        temp2 = self.latest_cluster[j]\n",
    "        for k in range(self.N):\n",
    "            if self.latest_cluster[k] == temp1 or self.latest_cluster[k] == temp2:\n",
    "                self.latest_cluster[k] = self.total_number_of_cluster\n",
    "                counter += 1\n",
    "                    \n",
    "        self.total_number_of_cluster += 1\n",
    "        return counter\n",
    "    \n",
    "    @cython.wraparound(False)\n",
    "    @cython.boundscheck(False)\n",
    "    def create_BP(self):\n",
    "        '''Create a binary table. Each row is a Cd-dimensional vector \n",
    "            transformed from the d-dimensional vector'''        \n",
    "        self.r = self.C * self.d / (2 * self.k) * np.sqrt(self.d)\n",
    "        self.BP = np.zeros((self.N, self.C * self.d), dtype='int')\n",
    "        for i in range(self.N):\n",
    "            for k in range(self.d):\n",
    "                start_point = self.C * k\n",
    "                number_of_one = self.data[i][k]\n",
    "                self.BP[i][start_point:start_point + number_of_one] = 1\n",
    "        #print(\"already create binary table\")\n",
    "        return self.BP\n",
    "    \n",
    "    @cython.wraparound(False)\n",
    "    @cython.boundscheck(False)\n",
    "    def create_hash_table(self):\n",
    "        '''Create a hashed table. Each row has k bits randomly chosen \n",
    "            from the Cd-dimensional vector. '''\n",
    "        cdef long[:,:] hash_table = np.empty([self.N,self.k],dtype = int)\n",
    "        cdef list choice_value = random.sample(range(self.C*self.d),self.k)\n",
    "        for k in range(self.N):\n",
    "            for i,j in enumerate(choice_value):\n",
    "                hash_table[k,i] = self.BP[k,j]\n",
    "        return hash_table\n",
    "    \n",
    "    @cython.wraparound(False)\n",
    "    @cython.boundscheck(False)\n",
    "    def identify_candidates(self, long[:,:] A):\n",
    "        \"\"\"\n",
    "        input: one hash table\n",
    "        output: buckets\n",
    "        \n",
    "        this function calculate the buckets in one hash table. For each point p, it put the points with same hash value\n",
    "            into the buckets. \n",
    "        However,if another point belonging to the same cluster as p has already been saved in the very bucket, \n",
    "            p is not stored in it.\n",
    "        \"\"\"\n",
    "        cdef list result = []\n",
    "        cdef long[:] target = np.zeros(self.k,dtype= int)\n",
    "        cdef long[:] can = np.zeros(self.k,dtype= int)\n",
    "        cdef list temp\n",
    "        cdef int x\n",
    "        for i in range(self.N):\n",
    "            target = A[i]\n",
    "            temp = [i]\n",
    "            for j in range(self.N):\n",
    "                if (i != j) and (self.latest_cluster[i] != self.latest_cluster[j]):\n",
    "                    x = 1\n",
    "                    can = A[j]\n",
    "                    for m in range(self.k):\n",
    "                        if target[m] != can[m]:\n",
    "                            x = 0\n",
    "                            break\n",
    "                    if x == 1:\n",
    "                        temp.append(j)\n",
    "                \n",
    "            if sorted(temp) not in result:\n",
    "                result.append(sorted(temp))\n",
    "        return result\n",
    "    \n",
    "    @cython.wraparound(False)\n",
    "    @cython.boundscheck(False)\n",
    "    def judge_cluster_by_distance(self, list lis):\n",
    "        \"\"\"\n",
    "        input: one bucket\n",
    "        \n",
    "        This function will update the points_distances in one bucket. \n",
    "        For points_distance < r, count points' near points' number.\n",
    "        \"\"\"\n",
    "        \n",
    "        cdef int N = len(lis)\n",
    "        cdef int row_num, col_num\n",
    "        cdef double dis\n",
    "        for i in range(N):\n",
    "            for j in range(N):\n",
    "                row_num = lis[i]\n",
    "                col_num = lis[j]\n",
    "                if self.points_distances[row_num,col_num] == np.inf:\n",
    "                    dis = 0.0\n",
    "\n",
    "                    for k in range(self.d):\n",
    "                        dis += (self.data[row_num,k]-self.data[col_num,k])**2\n",
    "                    dis = dis**0.5\n",
    "                    self.points_distances[row_num,col_num] = dis\n",
    "                    self.points_distances[col_num,row_num] = dis\n",
    "                else:\n",
    "                    dis = self.points_distances[row_num,col_num]\n",
    "                if self.iteration_times == 0 and dis < self.r:\n",
    "                    self.near_points[row_num] += 1\n",
    "                "
   ]
  },
  {
   "cell_type": "code",
   "execution_count": null,
   "metadata": {},
   "outputs": [],
   "source": [
    "import time\n",
    "import sklearn\n",
    "import sklearn.datasets\n",
    "import numpy as np\n",
    "import matplotlib.pyplot as plt"
   ]
  },
  {
   "cell_type": "code",
   "execution_count": null,
   "metadata": {},
   "outputs": [],
   "source": [
    "data = sklearn.datasets.load_iris().data\n",
    "data = data[:,:]*10 - data.min(axis=0)*10\n",
    "data = np.array(data, dtype='int')\n",
    "\n",
    "test = HASH_FUNS(data)\n",
    "test.set_parameters(230,10,2,15)\n",
    "\n",
    "test.update_distance()"
   ]
  },
  {
   "cell_type": "code",
   "execution_count": null,
   "metadata": {},
   "outputs": [],
   "source": [
    "test.get_parameters()"
   ]
  },
  {
   "cell_type": "code",
   "execution_count": null,
   "metadata": {},
   "outputs": [],
   "source": [
    "%%time\n",
    "test.fit_data()"
   ]
  },
  {
   "cell_type": "code",
   "execution_count": null,
   "metadata": {},
   "outputs": [],
   "source": [
    "import pandas as pd"
   ]
  },
  {
   "cell_type": "code",
   "execution_count": null,
   "metadata": {},
   "outputs": [],
   "source": [
    "ls = np.zeros((150,150))\n",
    "for i in range(150):\n",
    "    for j in range(150):\n",
    "        ls[i,j] = test.points_distances[i,j]\n",
    "pd.DataFrame(ls)"
   ]
  },
  {
   "cell_type": "markdown",
   "metadata": {},
   "source": [
    "# test"
   ]
  },
  {
   "cell_type": "code",
   "execution_count": null,
   "metadata": {},
   "outputs": [],
   "source": [
    "data = sklearn.datasets.load_iris().data\n",
    "data = data[:,:]*10 - data.min(axis=0)*10\n",
    "data = np.array(data, dtype='int')\n",
    "\n",
    "test = HASH_FUNS(data)\n",
    "test.set_parameters(100,10,2,15)\n",
    "pass"
   ]
  },
  {
   "cell_type": "code",
   "execution_count": null,
   "metadata": {},
   "outputs": [],
   "source": [
    "output = test.fit_data()"
   ]
  },
  {
   "cell_type": "code",
   "execution_count": null,
   "metadata": {},
   "outputs": [],
   "source": [
    "test.get_parameters()"
   ]
  },
  {
   "cell_type": "code",
   "execution_count": null,
   "metadata": {},
   "outputs": [],
   "source": [
    "from scipy.cluster.hierarchy import dendrogram, linkage\n",
    "from matplotlib import pyplot as plt\n",
    "fig = plt.figure(figsize=(25, 10))\n",
    "dn = dendrogram(output)\n",
    "plt.show()"
   ]
  },
  {
   "cell_type": "code",
   "execution_count": null,
   "metadata": {},
   "outputs": [],
   "source": [
    "from scipy.cluster.hierarchy import dendrogram, linkage\n",
    "from matplotlib import pyplot as plt\n",
    "fig = plt.figure(figsize=(25, 10))\n",
    "dn = dendrogram(output)\n",
    "plt.show()"
   ]
  },
  {
   "cell_type": "code",
   "execution_count": null,
   "metadata": {},
   "outputs": [],
   "source": [
    "data2 = sklearn.datasets.load_digits().data\n",
    "data2 = np.array(data2[:200,:], dtype='int')"
   ]
  },
  {
   "cell_type": "code",
   "execution_count": null,
   "metadata": {},
   "outputs": [],
   "source": [
    "test2 = HASH_FUNS(data2)\n",
    "test2.set_parameters(1000,20,2,25)\n",
    "test2.get_parameters()"
   ]
  },
  {
   "cell_type": "code",
   "execution_count": null,
   "metadata": {},
   "outputs": [],
   "source": [
    "for i in range(len(test2.single_linkage_matrix)):\n",
    "    ls = []\n",
    "    for j in range(4):\n",
    "        ls.append(test2.single_linkage_matrix[i][j])\n",
    "    print(ls)"
   ]
  },
  {
   "cell_type": "code",
   "execution_count": null,
   "metadata": {
    "scrolled": true
   },
   "outputs": [],
   "source": [
    "output2 = test2.fit_data()"
   ]
  },
  {
   "cell_type": "code",
   "execution_count": null,
   "metadata": {},
   "outputs": [],
   "source": [
    "ls= []\n",
    "for i in range(len(output2)):\n",
    "    temp = []\n",
    "    temp.append(int(output2[i][0]))\n",
    "    temp.append(int(output2[i][1]))\n",
    "    temp.append(output2[i][2])\n",
    "    temp.append(int(output2[i][3]))\n",
    "    ls.append(temp)\n",
    "ls[1:]"
   ]
  },
  {
   "cell_type": "code",
   "execution_count": null,
   "metadata": {},
   "outputs": [],
   "source": [
    "from scipy.cluster.hierarchy import dendrogram, linkage\n",
    "from matplotlib import pyplot as plt\n",
    "fig = plt.figure(figsize=(25, 10))\n",
    "dn = dendrogram(output2[1:,:])\n",
    "plt.show()"
   ]
  },
  {
   "cell_type": "code",
   "execution_count": null,
   "metadata": {},
   "outputs": [],
   "source": []
  },
  {
   "cell_type": "code",
   "execution_count": null,
   "metadata": {},
   "outputs": [],
   "source": [
    "data = sklearn.datasets.load_iris().data\n",
    "data = data[:,:]*10 - data.min(axis=0)*10\n",
    "data = np.array(data, dtype='int')\n",
    "\n",
    "test = HASH_FUNS(data)\n",
    "test.set_parameters(100,10,2,15)\n",
    "pass\n",
    "output = test.fit_data()"
   ]
  },
  {
   "cell_type": "code",
   "execution_count": null,
   "metadata": {},
   "outputs": [],
   "source": [
    "from scipy.cluster.hierarchy import dendrogram, linkage\n",
    "from matplotlib import pyplot as plt\n",
    "fig = plt.figure(figsize=(25, 10))\n",
    "dn = dendrogram(output[1:])\n",
    "plt.show()"
   ]
  },
  {
   "cell_type": "code",
   "execution_count": null,
   "metadata": {},
   "outputs": [],
   "source": [
    "data2 = sklearn.datasets.load_digits().data\n",
    "data2 = np.array(data2[:150,:], dtype='int')\n",
    "\n",
    "test2 = HASH_FUNS(data2)\n",
    "test2.set_parameters(1000,20,2,25)\n",
    "test2.get_parameters()"
   ]
  },
  {
   "cell_type": "code",
   "execution_count": null,
   "metadata": {},
   "outputs": [],
   "source": [
    "import time\n",
    "data2 = sklearn.datasets.load_digits().data\n",
    "data2 = np.array(data2[:150,:], dtype='int')\n",
    "\n",
    "test2 = HASH_FUNS(data2)\n",
    "test2.set_parameters(1000,20,2,25)\n",
    "test2.get_parameters()\n",
    "\n",
    "start = time.process_time()\n",
    "test2.set_parameters(1000,20,2,25)\n",
    "end = time.process_time()\n",
    "print(\"set_parameters\",str(end-start))\n",
    "\n",
    "start = time.process_time()\n",
    "test2.update_distance()\n",
    "end = time.process_time()\n",
    "print(\"update_distance\",str(end-start))\n",
    "\n",
    "start = time.process_time()\n",
    "test2.update_RP()\n",
    "end = time.process_time()\n",
    "print(\"update_RP\",str(end-start))\n",
    "\n",
    "start = time.process_time()\n",
    "test2.update_single_linkage_matrix()\n",
    "end = time.process_time()\n",
    "print(\"single_linkage_matrix\",str(end-start))\n",
    "\n",
    "test2.r = test2.r * test2.A\n",
    "test2.k = int(test2.C * test2.d * np.sqrt(test2.d) / (2 * test2.r))\n",
    "test2.iteration_times += 1\n",
    "print(\"first iteration end\")\n",
    "\n",
    "start = time.process_time()\n",
    "test2.update_distance\",str(end-start))\n",
    "\n",
    "start = time.process_time()\n",
    "test2.update_RP()\n",
    "end = time.process_time()\n",
    "print(\"update_RP\",str(end-start))\n",
    "\n",
    "start = time.process_time()\n",
    "test2.update_single_linkage_matrix()\n",
    "end = time.process_time()\n",
    "print(\"single_linkage_matrix\",str(end-start))"
   ]
  },
  {
   "cell_type": "code",
   "execution_count": null,
   "metadata": {
    "scrolled": true
   },
   "outputs": [],
   "source": [
    "from scipy.cluster.hierarchy import dendrogram, linkage\n",
    "from matplotlib import pyplot as plt\n",
    "fig = plt.figure(figsize=(25, 10))\n",
    "dn = dendrogram(output1)\n",
    "plt.show()"
   ]
  },
  {
   "cell_type": "code",
   "execution_count": null,
   "metadata": {},
   "outputs": [],
   "source": []
  },
  {
   "cell_type": "code",
   "execution_count": null,
   "metadata": {},
   "outputs": [],
   "source": []
  }
 ],
 "metadata": {
  "kernelspec": {
   "display_name": "Python 3",
   "language": "python",
   "name": "python3"
  },
  "language_info": {
   "codemirror_mode": {
    "name": "ipython",
    "version": 3
   },
   "file_extension": ".py",
   "mimetype": "text/x-python",
   "name": "python",
   "nbconvert_exporter": "python",
   "pygments_lexer": "ipython3",
   "version": "3.7.4"
  }
 },
 "nbformat": 4,
 "nbformat_minor": 4
}
