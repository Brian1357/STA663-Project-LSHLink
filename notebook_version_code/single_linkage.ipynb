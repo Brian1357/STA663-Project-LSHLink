{
 "cells": [
  {
   "cell_type": "code",
   "execution_count": 99,
   "metadata": {},
   "outputs": [],
   "source": [
    "import sklearn\n",
    "import sklearn.datasets\n",
    "import numpy as np\n",
    "import matplotlib.pyplot as plt\n",
    "from scipy.cluster.hierarchy import dendrogram"
   ]
  },
  {
   "cell_type": "code",
   "execution_count": 100,
   "metadata": {},
   "outputs": [],
   "source": [
    "class Single_Linkage():\n",
    "    def __init__(self, data):\n",
    "        self.data = data\n",
    "        self.N = len(self.data)\n",
    "        self.points_distances = np.array([np.array([np.inf] * self.N)] *\n",
    "                                             self.N)\n",
    "        self.latest_cluster = np.arange(self.N)            \n",
    "        self.total_number_of_cluster = self.N            \n",
    "        self.single_linkage_matrix = []\n",
    "        \n",
    "    def fit_data(self):\n",
    "        self.create_distance()\n",
    "        while len(self.latest_cluster[self.latest_cluster ==\n",
    "                                      self.latest_cluster[0]]) != self.N:\n",
    "            x, y = self.find_min_distance()\n",
    "            self.update_single_linkage_matrix(x,y)\n",
    "        return self.single_linkage_matrix\n",
    "        \n",
    "    def create_distance(self):\n",
    "        for i in range(self.N):\n",
    "            for j in range(i+1, self.N):\n",
    "                self.points_distances[i][j] = np.linalg.norm(self.data[i] - self.data[j])\n",
    "    \n",
    "    def find_min_distance(self):\n",
    "        index = np.where(self.points_distances == self.points_distances.min())\n",
    "        #print(index)\n",
    "        x = index[0][0]\n",
    "        y = index[1][0]\n",
    "        return x, y\n",
    "    \n",
    "    def update_single_linkage_matrix(self, i, j):\n",
    "        temp1 = self.latest_cluster[i]\n",
    "        temp2 = self.latest_cluster[j]\n",
    "        if temp1 != temp2:\n",
    "            temp = self.update_latest_cluster(i, j)\n",
    "            row = [temp1, temp2, self.points_distances[i][j], temp]\n",
    "            self.single_linkage_matrix.append(row)\n",
    "        self.points_distances[i][j] = np.inf\n",
    "    \n",
    "    def update_latest_cluster(self, i, j):\n",
    "        temp = self.total_number_of_cluster\n",
    "        self.latest_cluster[self.latest_cluster ==\n",
    "                            self.latest_cluster[i]] = temp\n",
    "        self.latest_cluster[self.latest_cluster ==\n",
    "                            self.latest_cluster[j]] = temp\n",
    "        self.total_number_of_cluster += 1\n",
    "        return len(self.latest_cluster[self.latest_cluster == temp])\n",
    "\n"
   ]
  },
  {
   "cell_type": "markdown",
   "metadata": {},
   "source": [
    "# example 1"
   ]
  },
  {
   "cell_type": "code",
   "execution_count": 101,
   "metadata": {},
   "outputs": [],
   "source": [
    "X = np.array([[i] for i in [2, 8, 0, 4, 1, 9, 9, 0]])\n",
    "test0 = Single_Linkage(X)"
   ]
  },
  {
   "cell_type": "code",
   "execution_count": 102,
   "metadata": {},
   "outputs": [],
   "source": [
    "Z = test0.fit_data()"
   ]
  },
  {
   "cell_type": "code",
   "execution_count": 103,
   "metadata": {},
   "outputs": [
    {
     "data": {
      "text/plain": [
       "{'icoord': [[15.0, 15.0, 25.0, 25.0],\n",
       "  [5.0, 5.0, 20.0, 20.0],\n",
       "  [35.0, 35.0, 45.0, 45.0],\n",
       "  [55.0, 55.0, 65.0, 65.0],\n",
       "  [40.0, 40.0, 60.0, 60.0],\n",
       "  [50.0, 50.0, 75.0, 75.0],\n",
       "  [12.5, 12.5, 62.5, 62.5]],\n",
       " 'dcoord': [[0.0, 0.0, 0.0, 0.0],\n",
       "  [0.0, 1.0, 1.0, 0.0],\n",
       "  [0.0, 0.0, 0.0, 0.0],\n",
       "  [0.0, 1.0, 1.0, 0.0],\n",
       "  [0.0, 1.0, 1.0, 1.0],\n",
       "  [1.0, 2.0, 2.0, 0.0],\n",
       "  [1.0, 4.0, 4.0, 2.0]],\n",
       " 'ivl': ['1', '5', '6', '2', '7', '0', '4', '3'],\n",
       " 'leaves': [1, 5, 6, 2, 7, 0, 4, 3],\n",
       " 'color_list': ['g', 'g', 'r', 'r', 'r', 'r', 'b']}"
      ]
     },
     "execution_count": 103,
     "metadata": {},
     "output_type": "execute_result"
    },
    {
     "data": {
      "image/png": "[encoded data removed]",
      "text/plain": [
       "<Figure size 432x288 with 1 Axes>"
      ]
     },
     "metadata": {
      "needs_background": "light"
     },
     "output_type": "display_data"
    }
   ],
   "source": [
    "import matplotlib.pyplot as plt\n",
    "from scipy.cluster.hierarchy import dendrogram\n",
    "\n",
    "dendrogram(Z)"
   ]
  },
  {
   "cell_type": "markdown",
   "metadata": {},
   "source": [
    "# example 2"
   ]
  },
  {
   "cell_type": "code",
   "execution_count": 104,
   "metadata": {},
   "outputs": [],
   "source": [
    "import sklearn.datasets\n",
    "data = sklearn.datasets.load_iris().data\n",
    "data = data[:,:]*10 - data.min(axis=0)*10\n",
    "data = np.array(data, dtype='int')"
   ]
  },
  {
   "cell_type": "code",
   "execution_count": 105,
   "metadata": {},
   "outputs": [
    {
     "data": {
      "image/png": "[encoded data removed]",
      "text/plain": [
       "<Figure size 1440x720 with 1 Axes>"
      ]
     },
     "metadata": {
      "needs_background": "light"
     },
     "output_type": "display_data"
    }
   ],
   "source": [
    "test0 = Single_Linkage(data)\n",
    "out = test0.fit_data()\n",
    "plt.figure(figsize=(20,10))\n",
    "dendrogram(out)\n",
    "pass"
   ]
  },
  {
   "cell_type": "code",
   "execution_count": null,
   "metadata": {},
   "outputs": [],
   "source": []
  },
  {
   "cell_type": "code",
   "execution_count": null,
   "metadata": {},
   "outputs": [],
   "source": []
  },
  {
   "cell_type": "code",
   "execution_count": null,
   "metadata": {},
   "outputs": [],
   "source": []
  }
 ],
 "metadata": {
  "kernelspec": {
   "display_name": "Python 3",
   "language": "python",
   "name": "python3"
  },
  "language_info": {
   "codemirror_mode": {
    "name": "ipython",
    "version": 3
   },
   "file_extension": ".py",
   "mimetype": "text/x-python",
   "name": "python",
   "nbconvert_exporter": "python",
   "pygments_lexer": "ipython3",
   "version": "3.7.6"
  }
 },
 "nbformat": 4,
 "nbformat_minor": 4
}
