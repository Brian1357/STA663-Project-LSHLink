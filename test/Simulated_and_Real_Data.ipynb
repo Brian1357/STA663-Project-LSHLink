{
 "cells": [
  {
   "cell_type": "code",
   "execution_count": 1,
   "metadata": {},
   "outputs": [],
   "source": [
    "import sklearn\n",
    "import sklearn.datasets\n",
    "import numpy as np\n",
    "import matplotlib.pyplot as plt\n",
    "from scipy.cluster.hierarchy import dendrogram, linkage\n",
    "import numba\n",
    "from numba.errors import NumbaDeprecationWarning, NumbaPendingDeprecationWarning\n",
    "import warnings\n",
    "warnings.simplefilter('ignore', category=NumbaDeprecationWarning)\n",
    "warnings.simplefilter('ignore', category=NumbaPendingDeprecationWarning)"
   ]
  },
  {
   "cell_type": "code",
   "execution_count": 14,
   "metadata": {},
   "outputs": [],
   "source": [
    "class HASH_FUNS():\n",
    "    def __init__(self, data):\n",
    "        '''\n",
    "        Initialize raw data, max value(C), dimension(d), \n",
    "            number of points(N), and an array maintaining the cluster index of each point\n",
    "        \n",
    "        self.points_distances reflect the true distance of two points. The init value is inf.\n",
    "        self.RP reflect whether two points is near or note. \"near\" means the true distance is less than r.\n",
    "        self.latest_cluster reflect the cluster label of each point, the init value is the points index.\n",
    "        self.total_number_of_cluster reflect the total number of cluster. NOTE: It is not the current number of clusters.\n",
    "        '''\n",
    "        try:\n",
    "            self.data = data\n",
    "            if not data.dtype == int:\n",
    "                raise TypeError\n",
    "\n",
    "            self.C = self.data.max()\n",
    "            if self.data.min() < 0:\n",
    "                raise ValueError\n",
    "\n",
    "            self.d = len(self.data[0])\n",
    "            self.N = len(self.data)\n",
    "\n",
    "            self.points_distances = np.array([np.array([np.inf] * self.N)] *\n",
    "                                             self.N)\n",
    "\n",
    "            self.RP = np.array([np.array([False] * self.N)] * self.N)\n",
    "            self.latest_cluster = np.arange(self.N)\n",
    "            self.total_number_of_cluster = self.N\n",
    "            self.single_linkage_matrix = []\n",
    "            self.iteration_times = 0\n",
    "            self.latest_cluster_each_iteration = np.arange(self.N).reshape(1,self.N)\n",
    "\n",
    "        except AttributeError:\n",
    "            print(\"Data size should be larger than 1\")\n",
    "        except TypeError:\n",
    "            print(\"Data should be integers.\")\n",
    "        except ValueError:\n",
    "            print(\"Data should be positive.\")\n",
    "\n",
    "    def set_parameters(self, k, l, A=2, T=0):\n",
    "        '''Set up number of sampled digits(k), number of hash functions(l),\n",
    "            increasing rate(A), noise exclusion threshold(T), and range of cluster inclusion r'''\n",
    "        try:\n",
    "            self.k = k\n",
    "            if k <= 0 or not isinstance(k, int):\n",
    "                raise ValueError(\"k should be positive integer.\")\n",
    "            if k > self.C * self.d:\n",
    "                raise ValueError(\"k should be smaller than\", self.C * self.d)\n",
    "            self.l = l\n",
    "            if l <= 0 or not isinstance(l, int):\n",
    "                raise ValueError(\"l should be a positive integer.\")\n",
    "            self.A = A\n",
    "            if A <= 0:\n",
    "                raise ValueError(\"A should be positive.\")\n",
    "            self.T = T\n",
    "            self.r = self.C * self.d / (2 * self.k) * self.d**0.5\n",
    "            if T > l:\n",
    "                pass\n",
    "            elif T <= l and T > 0:\n",
    "                raise ValueError(\"T should be larger than l.\")\n",
    "            elif T < 0:\n",
    "                raise ValueError(\"T should be non-negative.\")\n",
    "\n",
    "            self.create_BP()\n",
    "        except ValueError:\n",
    "            print('Some inputs are not right.')\n",
    "            raise\n",
    "\n",
    "    def get_parameters(self):\n",
    "        '''Show the current parameters'''\n",
    "        print('l=', self.l, '\\n')\n",
    "        print('k=', self.k, '\\n')\n",
    "        print('r=', self.r, '\\n')\n",
    "        print('C=', self.C, '\\n')\n",
    "        print('d=', self.d, '\\n')\n",
    "        print('N=', self.N, '\\n')\n",
    "        print('A=', self.A, '\\n')\n",
    "        print('T=', self.T, '\\n')\n",
    "\n",
    "    def plot_raw_data(self):\n",
    "        '''Plot the points on a 2d grid. Only 2d data allowed'''\n",
    "        plt.scatter(self.data[:, 0], self.data[:, 1])\n",
    "                   \n",
    "    def plot_cluster(self):\n",
    "        if len(self.latest_cluster[self.latest_cluster ==\n",
    "                                      self.latest_cluster[0]]) != self.N:\n",
    "            print(\"please fit data first\")\n",
    "        else:\n",
    "            plt.figure(figsize=(10,self.iteration_times*10))\n",
    "            for i in range(self.iteration_times+1):\n",
    "                self.latest_cluster_each_iteration[i][self.latest_cluster_each_iteration[i] == np.arange(self.N)] = -1\n",
    "                plt.subplot(self.iteration_times+1, 1, i+1)\n",
    "                plt.scatter(self.data[:, 0], self.data[:, 1], c = self.latest_cluster_each_iteration[i])\n",
    "                \n",
    "    def plot_dendrogram(self):\n",
    "        if len(self.latest_cluster[self.latest_cluster ==\n",
    "                                      self.latest_cluster[0]]) != self.N:\n",
    "            print(\"please fit data first\")\n",
    "        else:                    \n",
    "            fig = plt.figure(figsize=(25, 10))\n",
    "            dn = dendrogram(self.single_linkage_matrix)\n",
    "            plt.show()\n",
    "        return fig\n",
    "            \n",
    "    def fit_data(self):\n",
    "        \"\"\"\n",
    "        Train data until all data merge into one cluster, during each phase, this function will update points distance\n",
    "        and single linkage matrix.\n",
    "        \n",
    "        During each phase, the function will update r and k automatically, and the noise exclusion will \n",
    "        only be intergrated into the first phase.        \n",
    "        \"\"\"\n",
    "        temp_1 = 0\n",
    "        temp_2 = 0\n",
    "        temp_3 = 0\n",
    "        while len(self.latest_cluster[self.latest_cluster ==\n",
    "                                      self.latest_cluster[0]]) != self.N:\n",
    "            \n",
    "            self.update_distance()\n",
    "            self.update_RP()\n",
    "            self.update_single_linkage_matrix()\n",
    "            self.r = self.r * self.A\n",
    "            self.k = int(self.C * self.d * np.sqrt(self.d) / (2 * self.r))\n",
    "            self.iteration_times += 1\n",
    "            self.latest_cluster_each_iteration = np.r_[self.latest_cluster_each_iteration,self.latest_cluster.reshape(1,self.N)]\n",
    "            print(\"the iteration is \",self.iteration_times)\n",
    "        return self.single_linkage_matrix\n",
    "\n",
    "    def update_distance(self):\n",
    "        \"\"\"\n",
    "        This function will update distance in every phase.\n",
    "        \n",
    "        self.near_points reflect the number of points near the point in every bucket.\n",
    "        \n",
    "        self.hash_value function return a matrix, which shape is (l * N * k). It contains l hash tables.\n",
    "        for each hash table, we calculate the bucket and for each bucket, we calculate the points distances.\n",
    "        \"\"\"\n",
    "        self.near_points = np.zeros(self.N)\n",
    "        for hash_table in self.hash_value():\n",
    "            candidates = self.identify_candidates_numba(hash_table)\n",
    "            for lis in candidates:\n",
    "                points_distances, near_points = self.judge_cluster_by_distance_numba(\n",
    "                    lis)\n",
    "                self.points_distances = points_distances\n",
    "                self.near_points = near_points\n",
    "\n",
    "    def update_RP(self):\n",
    "        \"\"\"\n",
    "        self.RP identify each two points is near or not.\n",
    "            if two points p q is near, then self.RP[p,q] is True.\n",
    "        \n",
    "        self.not_noise_points is only used in the first phase, which will be used to judge noise point.\n",
    "            if one points p is not noise, then the value is True.     \n",
    "            \n",
    "        self.near_points reflect the near points of the point p in all bucket in all hash functions. \n",
    "        self.core_points reflect whether the near points of the point p is bigger than T.\n",
    "        \"\"\"\n",
    "\n",
    "        temp = self.points_distances < self.r\n",
    "        self.RP += temp\n",
    "\n",
    "        if self.iteration_times == 0:\n",
    "            self.not_noise_points = np.array([False] * self.N)\n",
    "            self.core_points = self.near_points > self.T\n",
    "            self.not_noise_points += self.core_points\n",
    "\n",
    "            for i in range(self.N):\n",
    "                if self.core_points[i]:\n",
    "                    self.not_noise_points += self.RP[i]\n",
    "        else:\n",
    "            self.not_noise_points = np.array([True] * self.N)\n",
    "        #print(self.not_noise_points)\n",
    "\n",
    "    def update_single_linkage_matrix(self):\n",
    "        \"\"\"\n",
    "        The single linkage matrix has four columns. The first two columns are the cluster label, the third columns\n",
    "            is the distance of two cluster, and the fourth columns is the number of points in the new merged cluster.\n",
    "            \n",
    "        In the first phase, we will only count the not noise points.\n",
    "        \"\"\"\n",
    "\n",
    "        for i in range(self.N):\n",
    "            if not self.not_noise_points[i]:\n",
    "                continue\n",
    "            for j in range(i + 1, self.N):\n",
    "                ele = self.RP[i, j]\n",
    "                if ele and self.latest_cluster[i] != self.latest_cluster[j]:\n",
    "                    temp1 = self.latest_cluster[i]\n",
    "                    temp2 = self.latest_cluster[j]\n",
    "\n",
    "                    temp = self.update_latest_cluster(i, j)\n",
    "                    row = [temp1, temp2, self.r, temp]\n",
    "                    self.single_linkage_matrix.append(row)\n",
    "\n",
    "    def update_latest_cluster(self, i, j):\n",
    "        \"\"\"\n",
    "        input: near points i, j\n",
    "        ouput: the total number of cluster.\n",
    "        \n",
    "        For near points i,j, this functions first identify the two cluster of two points and relabel all points in this \n",
    "            two clusters into a new label, which means \"merge\" two cluster.\n",
    "        \"\"\"\n",
    "\n",
    "        temp = self.total_number_of_cluster\n",
    "        self.latest_cluster[self.latest_cluster ==\n",
    "                            self.latest_cluster[i]] = temp\n",
    "        self.latest_cluster[self.latest_cluster ==\n",
    "                            self.latest_cluster[j]] = temp\n",
    "        self.total_number_of_cluster += 1\n",
    "        return len(self.latest_cluster[self.latest_cluster == temp])\n",
    "\n",
    "    def create_BP(self):\n",
    "        '''Create a binary table. Each row is a Cd-dimensional vector \n",
    "            transformed from the d-dimensional vector'''\n",
    "        self.r = self.C * self.d / (2 * self.k) * np.sqrt(self.d)\n",
    "        self.BP = np.zeros((self.N, self.C * self.d), dtype='int')\n",
    "        for i in range(self.N):\n",
    "            for k in range(self.d):\n",
    "                start_point = self.C * k\n",
    "                number_of_one = self.data[i][k]\n",
    "                self.BP[i][start_point:start_point + number_of_one] = 1\n",
    "        print(\"already create binary table\")\n",
    "        return self.BP\n",
    "\n",
    "    def create_hash_table(self):\n",
    "        '''Create a hashed table. Each row has k bits randomly chosen \n",
    "            from the Cd-dimensional vector. '''\n",
    "        choice_value = np.random.choice(np.arange(self.C*self.d), self.k, replace = False)\n",
    "        hash_table = self.BP[:, choice_value]\n",
    "        return hash_table\n",
    "\n",
    "    def hash_value(self):\n",
    "        \"\"\"\n",
    "        Return a matrix with shape (l * N * k). This matrix contains l hash table.\n",
    "        \"\"\"\n",
    "\n",
    "        table = np.zeros((self.l, self.N, self.k), dtype='int')\n",
    "        for i in range(self.l):\n",
    "            table[i, :, :] = self.create_hash_table()\n",
    "        return table\n",
    "\n",
    "    def identify_candidates_numba(self, A):\n",
    "        latest_cluster = self.latest_cluster\n",
    "        return self.identify_candidates(latest_cluster, A)  \n",
    "    \n",
    "    @staticmethod\n",
    "    @numba.jit(nopython = True)\n",
    "    def identify_candidates(latest_cluster, A):\n",
    "        \"\"\"\n",
    "        input: one hash table\n",
    "        output: buckets\n",
    "        \n",
    "        this function calculate the buckets in one hash table. For each point p, it put the points with same hash value\n",
    "            into the buckets. \n",
    "        However,if another point belonging to the same cluster as p has already been saved in the very bucket, \n",
    "            p is not stored in it.\n",
    "        \"\"\"\n",
    "#         result = []\n",
    "#         loc_unique = np.unique(A, axis=0)\n",
    "#         for k in loc_unique:\n",
    "#             temp = list(np.where((A == k).all(axis=1))[0])\n",
    "#             result.append(temp)\n",
    "#         return result\n",
    "        \n",
    "        result = []\n",
    "        N = len(A)\n",
    "        K = A.copy()\n",
    "        for i in range(N):\n",
    "            target = A[i]\n",
    "            temp = [i]\n",
    "            for j in range(N):\n",
    "                if i == j:\n",
    "                    continue\n",
    "                if latest_cluster[i] == latest_cluster[j]:\n",
    "                    continue\n",
    "                can = A[j]\n",
    "                if (target == can).all():\n",
    "                    temp.append(j)\n",
    "            if sorted(temp) not in result:\n",
    "                result.append(sorted(temp))\n",
    "        return result\n",
    "    \n",
    "    def judge_cluster_by_distance_numba(self, lis):\n",
    "        points_distances = self.points_distances\n",
    "        data = self.data\n",
    "        iteration_times = self.iteration_times\n",
    "        r = self.r\n",
    "        near_points = self.near_points\n",
    "        return self.judge_cluster_by_distance(points_distances, data,\n",
    "                                              iteration_times, r, near_points,\n",
    "                                              lis)\n",
    "\n",
    "    @staticmethod\n",
    "    @numba.jit(nopython = True)\n",
    "    def judge_cluster_by_distance(points_distances, data, iteration_times, r,\n",
    "                                  near_points, lis):\n",
    "        \"\"\"\n",
    "        input: one bucket\n",
    "        \n",
    "        This function will update the points_distances in one bucket. \n",
    "        For points_distance < r, count points' near points' number.\n",
    "        \"\"\"\n",
    "        N = len(lis)\n",
    "        for i in range(N):\n",
    "            for j in range(N):\n",
    "#                 if latest_cluster[i] == latest_cluster[j]:\n",
    "#                      continue\n",
    "                par_points = (lis[i], lis[j])\n",
    "                if points_distances[par_points] == np.inf:\n",
    "                    dis = np.sqrt(np.sum((data[lis[i]] - data[lis[j]])**2))\n",
    "#                     dis = np.linalg.norm(data[lis[i]] - data[lis[j]])\n",
    "                    points_distances[par_points] = dis\n",
    "                    points_distances[par_points[::-1]] = dis\n",
    "                else:\n",
    "                    dis = points_distances[par_points]\n",
    "                if iteration_times == 0 and dis < r:\n",
    "                    near_points[lis[i]] += 1\n",
    "        return points_distances, near_points"
   ]
  },
  {
   "cell_type": "markdown",
   "metadata": {},
   "source": [
    "# test"
   ]
  },
  {
   "cell_type": "markdown",
   "metadata": {},
   "source": [
    "## Similarity of the dendrograms drawn by two methods"
   ]
  },
  {
   "cell_type": "markdown",
   "metadata": {},
   "source": [
    "- __CCC(Cophenetic Correlation Coefficient)__: This coefficient calculates the correlation between two distance matrices. CCC is often used for measuring the similarity between two dendrograms. We denote the CCC between two distance matrices $X$ and $Y$ by $r_{X,Y}$ which is defined in Formula (7). Here, let $\\bar{x}$ and $\\bar{y}$ be the averages of the elements of the lower triangle matrices of $X$ and $Y$ , respectively. $r_{X,Y}$ takes a value between 0 and 1. The higher the correlation grows, the larger $r_{X,Y}$ gets. In particular, when $X$ is identical to $Y$, $r_{X,Y}$ = 1. From the viewpoint of statistics, when $r_{X,Y} \\leq 0.7$, X is said to have a high correlation to Y . In this paper, the correlation between two distance matrices induced from the dendrograms generated by LSH-link and the single linkage method is investigated."
   ]
  },
  {
   "cell_type": "code",
   "execution_count": 85,
   "metadata": {},
   "outputs": [],
   "source": [
    "def dendis_mat(linkmat,N):\n",
    "    dis = np.ones((N,N))*np.inf\n",
    "    clusters = np.arange(N)\n",
    "    index = np.arange(N)\n",
    "    for i,row in enumerate(linkmat):\n",
    "        ls_1 = index[clusters == row[0]]\n",
    "        ls_2 = index[clusters == row[1]]\n",
    "        for j in ls_1:\n",
    "            for k in ls_2:\n",
    "                if dis[j][k] == np.inf:\n",
    "                    dis[j][k] = row[2]\n",
    "                if dis[k][j] == np.inf:\n",
    "                    dis[k][j] = row[2]\n",
    "        clusters[clusters==row[0]] = N+i\n",
    "        clusters[clusters==row[1]] = N+i\n",
    "    return dis"
   ]
  },
  {
   "cell_type": "code",
   "execution_count": 103,
   "metadata": {},
   "outputs": [],
   "source": [
    "import numpy as np\n",
    "import scipy.linalg as la\n",
    "def CCC(linkmat_single,linkmat_lsh,N):\n",
    "    mat_s = dendis_mat(linkmat_single,N)\n",
    "    mat_l = dendis_mat(linkmat_lsh,N)\n",
    "    temp_s = np.zeros(int(N*(N-1)/2))\n",
    "    temp_l = np.zeros(int(N*(N-1)/2))\n",
    "    counter = 0\n",
    "    for i in range(N-1):\n",
    "        for j in range(i+1,N-1):\n",
    "            temp_s[counter] = mat_s[i][j]\n",
    "            temp_l[counter] = mat_l[i][j]\n",
    "            counter += 1\n",
    "    \n",
    "    return np.corrcoef(temp_s,temp_l)[0][1]"
   ]
  },
  {
   "cell_type": "markdown",
   "metadata": {},
   "source": [
    "- __Ratio of the sum of edge lengths in the tree__: The single linkage method produces the minimum spanning tree for the given data. Hence, we examine the number of times the sum of edge lengths in the tree generated by the LSH-link is larger than that generated by the single linkage method."
   ]
  },
  {
   "cell_type": "code",
   "execution_count": 32,
   "metadata": {},
   "outputs": [],
   "source": [
    "def ratio_edge(linkmat_single,linkmat_lsh):\n",
    "    mat_s = np.array(linkmat_single)\n",
    "    mat_l = np.array(linkmat_lsh)\n",
    "    ratio = np.sum(mat_l,axis = 0)[2]/np.sum(mat_s,axis = 0)[2]\n",
    "    return ratio"
   ]
  },
  {
   "cell_type": "markdown",
   "metadata": {},
   "source": [
    "## Simulated Data"
   ]
  },
  {
   "cell_type": "code",
   "execution_count": 112,
   "metadata": {},
   "outputs": [
    {
     "name": "stdout",
     "output_type": "stream",
     "text": [
      "already create binary table\n",
      "the iteration is  1\n",
      "the iteration is  2\n",
      "the iteration is  3\n",
      "the iteration is  4\n",
      "the iteration is  5\n",
      "the iteration is  6\n",
      "the iteration is  7\n",
      "the iteration is  8\n"
     ]
    },
    {
     "data": {
      "image/png": "[encoded data removed]",
      "text/plain": [
       "<Figure size 1800x720 with 1 Axes>"
      ]
     },
     "metadata": {
      "needs_background": "light"
     },
     "output_type": "display_data"
    }
   ],
   "source": [
    "X = [[i] for i in [2, 8, 0, 4, 1, 9, 9, 0]]\n",
    "X = np.array(X)\n",
    "test2 = HASH_FUNS(X)\n",
    "test2.set_parameters(4,10,1.2,15)\n",
    "output_sim = test2.fit_data()\n",
    "fig = test2.plot_dendrogram()\n",
    "fig.savefig('figures/sim_lsh.jpg')"
   ]
  },
  {
   "cell_type": "code",
   "execution_count": 109,
   "metadata": {},
   "outputs": [],
   "source": [
    "from scipy.cluster.hierarchy import dendrogram, linkage"
   ]
  },
  {
   "cell_type": "code",
   "execution_count": 111,
   "metadata": {},
   "outputs": [
    {
     "data": {
      "image/png": "[encoded data removed]",
      "text/plain": [
       "<Figure size 1800x720 with 1 Axes>"
      ]
     },
     "metadata": {
      "needs_background": "light"
     },
     "output_type": "display_data"
    }
   ],
   "source": [
    "Z_sim = linkage(X, 'single')\n",
    "fig = plt.figure(figsize=(25, 10))\n",
    "dn = dendrogram(Z)\n",
    "plt.show()"
   ]
  },
  {
   "cell_type": "code",
   "execution_count": 21,
   "metadata": {},
   "outputs": [],
   "source": [
    "fig.savefig('figures/sim_single.jpg')"
   ]
  },
  {
   "cell_type": "code",
   "execution_count": 113,
   "metadata": {},
   "outputs": [
    {
     "data": {
      "text/plain": [
       "0.9921509544661086"
      ]
     },
     "execution_count": 113,
     "metadata": {},
     "output_type": "execute_result"
    }
   ],
   "source": [
    "CCC(Z_sim,output_sim,8)"
   ]
  },
  {
   "cell_type": "code",
   "execution_count": 38,
   "metadata": {},
   "outputs": [
    {
     "data": {
      "text/plain": [
       "1.3320976"
      ]
     },
     "execution_count": 38,
     "metadata": {},
     "output_type": "execute_result"
    }
   ],
   "source": [
    "ratio_edge(Z,output_l)"
   ]
  },
  {
   "cell_type": "markdown",
   "metadata": {},
   "source": [
    "example2"
   ]
  },
  {
   "cell_type": "code",
   "execution_count": 127,
   "metadata": {},
   "outputs": [
    {
     "name": "stdout",
     "output_type": "stream",
     "text": [
      "already create binary table\n",
      "the iteration is  1\n",
      "the iteration is  2\n",
      "the iteration is  3\n",
      "the iteration is  4\n"
     ]
    }
   ],
   "source": [
    "data = sklearn.datasets.load_iris().data\n",
    "data = data[:,:]*10 - data.min(axis=0)*10\n",
    "data = np.array(data, dtype='int')\n",
    "\n",
    "test = HASH_FUNS(data)\n",
    "test.set_parameters(100,10,2,15)\n",
    "pass\n",
    "output = test.fit_data()"
   ]
  },
  {
   "cell_type": "code",
   "execution_count": 128,
   "metadata": {},
   "outputs": [],
   "source": [
    "import time"
   ]
  },
  {
   "cell_type": "code",
   "execution_count": 117,
   "metadata": {},
   "outputs": [
    {
     "data": {
      "image/png": "[encoded data removed]",
      "text/plain": [
       "<Figure size 1800x720 with 1 Axes>"
      ]
     },
     "metadata": {
      "needs_background": "light"
     },
     "output_type": "display_data"
    }
   ],
   "source": [
    "fig = test.plot_dendrogram()"
   ]
  },
  {
   "cell_type": "code",
   "execution_count": 118,
   "metadata": {},
   "outputs": [],
   "source": [
    "fig.savefig('figures/real_lsh.jpg')"
   ]
  },
  {
   "cell_type": "code",
   "execution_count": 114,
   "metadata": {},
   "outputs": [
    {
     "data": {
      "image/png": "[encoded data removed]",
      "text/plain": [
       "<Figure size 1800x720 with 1 Axes>"
      ]
     },
     "metadata": {
      "needs_background": "light"
     },
     "output_type": "display_data"
    }
   ],
   "source": [
    "Z = linkage(data, 'single')\n",
    "fig = plt.figure(figsize=(25, 10))\n",
    "dn = dendrogram(Z)\n",
    "plt.show()"
   ]
  },
  {
   "cell_type": "code",
   "execution_count": 116,
   "metadata": {},
   "outputs": [],
   "source": [
    "fig.savefig('figures/real_single.jpg')"
   ]
  },
  {
   "cell_type": "code",
   "execution_count": 119,
   "metadata": {},
   "outputs": [
    {
     "data": {
      "text/plain": [
       "0.9978637307008767"
      ]
     },
     "execution_count": 119,
     "metadata": {},
     "output_type": "execute_result"
    }
   ],
   "source": [
    "CCC(Z,output,150)"
   ]
  },
  {
   "cell_type": "code",
   "execution_count": 53,
   "metadata": {},
   "outputs": [
    {
     "data": {
      "text/plain": [
       "1.2796158734107819"
      ]
     },
     "execution_count": 53,
     "metadata": {},
     "output_type": "execute_result"
    }
   ],
   "source": [
    "ratio_edge(Z,output)"
   ]
  }
 ],
 "metadata": {
  "kernelspec": {
   "display_name": "Python 3",
   "language": "python",
   "name": "python3"
  },
  "language_info": {
   "codemirror_mode": {
    "name": "ipython",
    "version": 3
   },
   "file_extension": ".py",
   "mimetype": "text/x-python",
   "name": "python",
   "nbconvert_exporter": "python",
   "pygments_lexer": "ipython3",
   "version": "3.7.4"
  }
 },
 "nbformat": 4,
 "nbformat_minor": 4
}
